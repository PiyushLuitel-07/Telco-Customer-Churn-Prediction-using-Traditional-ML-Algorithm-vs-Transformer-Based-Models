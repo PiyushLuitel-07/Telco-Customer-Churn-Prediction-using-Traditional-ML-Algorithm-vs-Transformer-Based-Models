{
 "cells": [
  {
   "cell_type": "code",
   "execution_count": 1,
   "id": "15267b2e",
   "metadata": {},
   "outputs": [],
   "source": [
    "import numpy as np \n",
    "import pandas as pd \n",
    "import seaborn as sns \n",
    "import matplotlib.ticker as mtick \n",
    "import matplotlib.pyplot as plt\n",
    "from sklearn import preprocessing\n",
    "from sklearn.preprocessing import MinMaxScaler,StandardScaler"
   ]
  },
  {
   "cell_type": "code",
   "execution_count": 2,
   "id": "52819673",
   "metadata": {},
   "outputs": [
    {
     "data": {
      "text/html": [
       "<div>\n",
       "<style scoped>\n",
       "    .dataframe tbody tr th:only-of-type {\n",
       "        vertical-align: middle;\n",
       "    }\n",
       "\n",
       "    .dataframe tbody tr th {\n",
       "        vertical-align: top;\n",
       "    }\n",
       "\n",
       "    .dataframe thead th {\n",
       "        text-align: right;\n",
       "    }\n",
       "</style>\n",
       "<table border=\"1\" class=\"dataframe\">\n",
       "  <thead>\n",
       "    <tr style=\"text-align: right;\">\n",
       "      <th></th>\n",
       "      <th>SeniorCitizen</th>\n",
       "      <th>tenure</th>\n",
       "      <th>MonthlyCharges</th>\n",
       "      <th>TotalCharges</th>\n",
       "      <th>Churn</th>\n",
       "      <th>gender_Male</th>\n",
       "      <th>InternetService_Fiber optic</th>\n",
       "      <th>InternetService_No</th>\n",
       "      <th>PaymentMethod_Credit card (automatic)</th>\n",
       "      <th>PaymentMethod_Electronic check</th>\n",
       "      <th>...</th>\n",
       "      <th>PaperlessBilling_Yes</th>\n",
       "      <th>MultipleLines_Yes</th>\n",
       "      <th>OnlineSecurity_Yes</th>\n",
       "      <th>OnlineBackup_Yes</th>\n",
       "      <th>DeviceProtection_Yes</th>\n",
       "      <th>TechSupport_Yes</th>\n",
       "      <th>StreamingTV_Yes</th>\n",
       "      <th>StreamingMovies_Yes</th>\n",
       "      <th>Contract_One year</th>\n",
       "      <th>Contract_Two year</th>\n",
       "    </tr>\n",
       "  </thead>\n",
       "  <tbody>\n",
       "    <tr>\n",
       "      <th>0</th>\n",
       "      <td>0</td>\n",
       "      <td>1</td>\n",
       "      <td>29.85</td>\n",
       "      <td>29.85</td>\n",
       "      <td>0</td>\n",
       "      <td>False</td>\n",
       "      <td>False</td>\n",
       "      <td>False</td>\n",
       "      <td>False</td>\n",
       "      <td>True</td>\n",
       "      <td>...</td>\n",
       "      <td>True</td>\n",
       "      <td>False</td>\n",
       "      <td>False</td>\n",
       "      <td>True</td>\n",
       "      <td>False</td>\n",
       "      <td>False</td>\n",
       "      <td>False</td>\n",
       "      <td>False</td>\n",
       "      <td>False</td>\n",
       "      <td>False</td>\n",
       "    </tr>\n",
       "    <tr>\n",
       "      <th>1</th>\n",
       "      <td>0</td>\n",
       "      <td>34</td>\n",
       "      <td>56.95</td>\n",
       "      <td>1889.50</td>\n",
       "      <td>0</td>\n",
       "      <td>True</td>\n",
       "      <td>False</td>\n",
       "      <td>False</td>\n",
       "      <td>False</td>\n",
       "      <td>False</td>\n",
       "      <td>...</td>\n",
       "      <td>False</td>\n",
       "      <td>False</td>\n",
       "      <td>True</td>\n",
       "      <td>False</td>\n",
       "      <td>True</td>\n",
       "      <td>False</td>\n",
       "      <td>False</td>\n",
       "      <td>False</td>\n",
       "      <td>True</td>\n",
       "      <td>False</td>\n",
       "    </tr>\n",
       "    <tr>\n",
       "      <th>2</th>\n",
       "      <td>0</td>\n",
       "      <td>2</td>\n",
       "      <td>53.85</td>\n",
       "      <td>108.15</td>\n",
       "      <td>1</td>\n",
       "      <td>True</td>\n",
       "      <td>False</td>\n",
       "      <td>False</td>\n",
       "      <td>False</td>\n",
       "      <td>False</td>\n",
       "      <td>...</td>\n",
       "      <td>True</td>\n",
       "      <td>False</td>\n",
       "      <td>True</td>\n",
       "      <td>True</td>\n",
       "      <td>False</td>\n",
       "      <td>False</td>\n",
       "      <td>False</td>\n",
       "      <td>False</td>\n",
       "      <td>False</td>\n",
       "      <td>False</td>\n",
       "    </tr>\n",
       "    <tr>\n",
       "      <th>3</th>\n",
       "      <td>0</td>\n",
       "      <td>45</td>\n",
       "      <td>42.30</td>\n",
       "      <td>1840.75</td>\n",
       "      <td>0</td>\n",
       "      <td>True</td>\n",
       "      <td>False</td>\n",
       "      <td>False</td>\n",
       "      <td>False</td>\n",
       "      <td>False</td>\n",
       "      <td>...</td>\n",
       "      <td>False</td>\n",
       "      <td>False</td>\n",
       "      <td>True</td>\n",
       "      <td>False</td>\n",
       "      <td>True</td>\n",
       "      <td>True</td>\n",
       "      <td>False</td>\n",
       "      <td>False</td>\n",
       "      <td>True</td>\n",
       "      <td>False</td>\n",
       "    </tr>\n",
       "    <tr>\n",
       "      <th>4</th>\n",
       "      <td>0</td>\n",
       "      <td>2</td>\n",
       "      <td>70.70</td>\n",
       "      <td>151.65</td>\n",
       "      <td>1</td>\n",
       "      <td>False</td>\n",
       "      <td>True</td>\n",
       "      <td>False</td>\n",
       "      <td>False</td>\n",
       "      <td>True</td>\n",
       "      <td>...</td>\n",
       "      <td>True</td>\n",
       "      <td>False</td>\n",
       "      <td>False</td>\n",
       "      <td>False</td>\n",
       "      <td>False</td>\n",
       "      <td>False</td>\n",
       "      <td>False</td>\n",
       "      <td>False</td>\n",
       "      <td>False</td>\n",
       "      <td>False</td>\n",
       "    </tr>\n",
       "  </tbody>\n",
       "</table>\n",
       "<p>5 rows × 24 columns</p>\n",
       "</div>"
      ],
      "text/plain": [
       "   SeniorCitizen  tenure  MonthlyCharges  TotalCharges  Churn  gender_Male  \\\n",
       "0              0       1           29.85         29.85      0        False   \n",
       "1              0      34           56.95       1889.50      0         True   \n",
       "2              0       2           53.85        108.15      1         True   \n",
       "3              0      45           42.30       1840.75      0         True   \n",
       "4              0       2           70.70        151.65      1        False   \n",
       "\n",
       "   InternetService_Fiber optic  InternetService_No  \\\n",
       "0                        False               False   \n",
       "1                        False               False   \n",
       "2                        False               False   \n",
       "3                        False               False   \n",
       "4                         True               False   \n",
       "\n",
       "   PaymentMethod_Credit card (automatic)  PaymentMethod_Electronic check  ...  \\\n",
       "0                                  False                            True  ...   \n",
       "1                                  False                           False  ...   \n",
       "2                                  False                           False  ...   \n",
       "3                                  False                           False  ...   \n",
       "4                                  False                            True  ...   \n",
       "\n",
       "   PaperlessBilling_Yes  MultipleLines_Yes  OnlineSecurity_Yes  \\\n",
       "0                  True              False               False   \n",
       "1                 False              False                True   \n",
       "2                  True              False                True   \n",
       "3                 False              False                True   \n",
       "4                  True              False               False   \n",
       "\n",
       "   OnlineBackup_Yes  DeviceProtection_Yes  TechSupport_Yes  StreamingTV_Yes  \\\n",
       "0              True                 False            False            False   \n",
       "1             False                  True            False            False   \n",
       "2              True                 False            False            False   \n",
       "3             False                  True             True            False   \n",
       "4             False                 False            False            False   \n",
       "\n",
       "   StreamingMovies_Yes  Contract_One year  Contract_Two year  \n",
       "0                False              False              False  \n",
       "1                False               True              False  \n",
       "2                False              False              False  \n",
       "3                False               True              False  \n",
       "4                False              False              False  \n",
       "\n",
       "[5 rows x 24 columns]"
      ]
     },
     "execution_count": 2,
     "metadata": {},
     "output_type": "execute_result"
    }
   ],
   "source": [
    "df1= pd.read_csv('../data/processed/version1_processed_dataset_encoded.csv')\n",
    "df1.head()"
   ]
  },
  {
   "cell_type": "code",
   "execution_count": null,
   "id": "b0ebc3ae",
   "metadata": {},
   "outputs": [],
   "source": []
  },
  {
   "cell_type": "code",
   "execution_count": 4,
   "id": "06ae3784",
   "metadata": {},
   "outputs": [
    {
     "name": "stdout",
     "output_type": "stream",
     "text": [
      "<class 'pandas.core.frame.DataFrame'>\n",
      "RangeIndex: 7043 entries, 0 to 7042\n",
      "Data columns (total 24 columns):\n",
      " #   Column                                 Non-Null Count  Dtype  \n",
      "---  ------                                 --------------  -----  \n",
      " 0   SeniorCitizen                          7043 non-null   int64  \n",
      " 1   tenure                                 7043 non-null   int64  \n",
      " 2   MonthlyCharges                         7043 non-null   float64\n",
      " 3   TotalCharges                           7043 non-null   float64\n",
      " 4   Churn                                  7043 non-null   int64  \n",
      " 5   gender_Male                            7043 non-null   bool   \n",
      " 6   InternetService_Fiber optic            7043 non-null   bool   \n",
      " 7   InternetService_No                     7043 non-null   bool   \n",
      " 8   PaymentMethod_Credit card (automatic)  7043 non-null   bool   \n",
      " 9   PaymentMethod_Electronic check         7043 non-null   bool   \n",
      " 10  PaymentMethod_Mailed check             7043 non-null   bool   \n",
      " 11  Partner_Yes                            7043 non-null   bool   \n",
      " 12  Dependents_Yes                         7043 non-null   bool   \n",
      " 13  PhoneService_Yes                       7043 non-null   bool   \n",
      " 14  PaperlessBilling_Yes                   7043 non-null   bool   \n",
      " 15  MultipleLines_Yes                      7043 non-null   bool   \n",
      " 16  OnlineSecurity_Yes                     7043 non-null   bool   \n",
      " 17  OnlineBackup_Yes                       7043 non-null   bool   \n",
      " 18  DeviceProtection_Yes                   7043 non-null   bool   \n",
      " 19  TechSupport_Yes                        7043 non-null   bool   \n",
      " 20  StreamingTV_Yes                        7043 non-null   bool   \n",
      " 21  StreamingMovies_Yes                    7043 non-null   bool   \n",
      " 22  Contract_One year                      7043 non-null   bool   \n",
      " 23  Contract_Two year                      7043 non-null   bool   \n",
      "dtypes: bool(19), float64(2), int64(3)\n",
      "memory usage: 405.9 KB\n"
     ]
    }
   ],
   "source": [
    "df1.info()"
   ]
  },
  {
   "cell_type": "markdown",
   "id": "6b960639",
   "metadata": {},
   "source": [
    "#### Feature engineering"
   ]
  },
  {
   "cell_type": "markdown",
   "id": "a6958a30",
   "metadata": {},
   "source": [
    "Binning 'tenure' feature into 6 ranges"
   ]
  },
  {
   "cell_type": "code",
   "execution_count": 5,
   "id": "4ce73263",
   "metadata": {},
   "outputs": [
    {
     "data": {
      "text/plain": [
       "count    7043.000000\n",
       "mean       32.371149\n",
       "std        24.559481\n",
       "min         0.000000\n",
       "25%         9.000000\n",
       "50%        29.000000\n",
       "75%        55.000000\n",
       "max        72.000000\n",
       "Name: tenure, dtype: float64"
      ]
     },
     "execution_count": 5,
     "metadata": {},
     "output_type": "execute_result"
    }
   ],
   "source": [
    "df1['tenure'].describe()"
   ]
  },
  {
   "cell_type": "code",
   "execution_count": 6,
   "id": "8599524b",
   "metadata": {},
   "outputs": [],
   "source": [
    "condition = [((df1.tenure >= 0)&(df1.tenure <= 12)), ((df1.tenure > 12)&(df1.tenure <= 24)), \n",
    "             ((df1.tenure > 24)&(df1.tenure <= 36)),((df1.tenure > 36)&(df1.tenure <= 48)),\n",
    "             ((df1.tenure > 48)&(df1.tenure <= 60)), (df1.tenure > 60)]\n",
    "\n",
    "#choice = ['0-1year','1-2years', '2-3years', '3-4years','4-5years','more than 5 years']\n",
    "choice = [0,1, 2, 3, 4, 5]\n",
    "df1['tenure_range'] = np.select(condition, choice)"
   ]
  },
  {
   "cell_type": "code",
   "execution_count": 8,
   "id": "ac3149dc",
   "metadata": {},
   "outputs": [
    {
     "data": {
      "text/plain": [
       "tenure_range\n",
       "0    2186\n",
       "5    1407\n",
       "1    1024\n",
       "2     832\n",
       "4     832\n",
       "3     762\n",
       "Name: count, dtype: int64"
      ]
     },
     "execution_count": 8,
     "metadata": {},
     "output_type": "execute_result"
    }
   ],
   "source": [
    "df1['tenure_range'].value_counts()"
   ]
  },
  {
   "cell_type": "code",
   "execution_count": 9,
   "id": "ff87352a",
   "metadata": {},
   "outputs": [
    {
     "data": {
      "image/png": "[encoded data removed]",
      "text/plain": [
       "<Figure size 640x480 with 1 Axes>"
      ]
     },
     "metadata": {},
     "output_type": "display_data"
    }
   ],
   "source": [
    "_ = sns.countplot(x= 'tenure_range', hue='Churn', data=df1, palette='crest', order=choice)\n",
    "plt.tight_layout()"
   ]
  },
  {
   "cell_type": "markdown",
   "id": "dc3b43c1",
   "metadata": {},
   "source": [
    "We can notice that customers who stay longer are more loyal to the company and very small number who leave after staying more than 4 years. On the other hand, customers churn rate is very high during the first year."
   ]
  },
  {
   "cell_type": "markdown",
   "id": "47738b9b",
   "metadata": {},
   "source": [
    "### Feature Scaling"
   ]
  },
  {
   "cell_type": "markdown",
   "id": "7b2e280a",
   "metadata": {},
   "source": [
    "Log transform"
   ]
  },
  {
   "cell_type": "code",
   "execution_count": 11,
   "id": "f918ba24",
   "metadata": {},
   "outputs": [],
   "source": [
    "df1['MonthlyCharges']=np.log1p(df1['MonthlyCharges'])\n",
    "df1['TotalCharges']=np.log1p(df1['TotalCharges'])"
   ]
  },
  {
   "cell_type": "code",
   "execution_count": 12,
   "id": "0ca30ad5",
   "metadata": {},
   "outputs": [
    {
     "data": {
      "image/png": "[encoded data removed]",
      "text/plain": [
       "<Figure size 1500x200 with 2 Axes>"
      ]
     },
     "metadata": {},
     "output_type": "display_data"
    }
   ],
   "source": [
    "plt.figure(figsize=(15,2))\n",
    "plt.subplot(1, 3, 2)\n",
    "_ = sns.histplot(x='MonthlyCharges', data=df1)\n",
    "\n",
    "plt.subplot(1, 3, 3)\n",
    "_ = sns.histplot(x='TotalCharges', data=df1)"
   ]
  },
  {
   "cell_type": "code",
   "execution_count": 13,
   "id": "3dcf4cb7",
   "metadata": {},
   "outputs": [],
   "source": [
    "df1.to_csv('../data/processed/version2_processed_dataset_featureeng_featurescaling.csv', index=False)  # adjust path if needed"
   ]
  },
  {
   "cell_type": "code",
   "execution_count": 5,
   "id": "7865bdea",
   "metadata": {},
   "outputs": [],
   "source": [
    "df2= pd.read_csv('../data/processed/version2_processed_dataset_featureeng_featurescaling.csv')"
   ]
  },
  {
   "cell_type": "code",
   "execution_count": 7,
   "id": "1fa9e1b6",
   "metadata": {},
   "outputs": [
    {
     "name": "stdout",
     "output_type": "stream",
     "text": [
      "Before Log Transformation\n",
      "count    7043.000000\n",
      "mean     2283.300441\n",
      "std      2265.000258\n",
      "min        18.800000\n",
      "25%       402.225000\n",
      "50%      1400.550000\n",
      "75%      3786.600000\n",
      "max      8684.800000\n",
      "Name: TotalCharges, dtype: float64\n",
      "\n",
      "\n",
      "After Log Transformation\n",
      "count    7043.000000\n",
      "mean        6.944622\n",
      "std         1.545545\n",
      "min         2.985682\n",
      "25%         5.999494\n",
      "50%         7.245334\n",
      "75%         8.239488\n",
      "max         9.069445\n",
      "Name: TotalCharges, dtype: float64\n"
     ]
    }
   ],
   "source": [
    "print('Before Log Transformation')\n",
    "print(df1['TotalCharges'].describe())\n",
    "print('\\n')\n",
    "print('After Log Transformation')\n",
    "print(df2['TotalCharges'].describe())"
   ]
  },
  {
   "cell_type": "code",
   "execution_count": 8,
   "id": "ca6ee567",
   "metadata": {},
   "outputs": [
    {
     "name": "stdout",
     "output_type": "stream",
     "text": [
      "Before Log Transformation\n",
      "count    7043.000000\n",
      "mean       64.761692\n",
      "std        30.090047\n",
      "min        18.250000\n",
      "25%        35.500000\n",
      "50%        70.350000\n",
      "75%        89.850000\n",
      "max       118.750000\n",
      "Name: MonthlyCharges, dtype: float64\n",
      "\n",
      "\n",
      "After Log Transformation\n",
      "count    7043.000000\n",
      "mean        4.043347\n",
      "std         0.580288\n",
      "min         2.957511\n",
      "25%         3.597312\n",
      "50%         4.267597\n",
      "75%         4.509210\n",
      "max         4.785406\n",
      "Name: MonthlyCharges, dtype: float64\n"
     ]
    }
   ],
   "source": [
    "print('Before Log Transformation')\n",
    "print(df1['MonthlyCharges'].describe())\n",
    "print('\\n')\n",
    "print('After Log Transformation')\n",
    "print(df2['MonthlyCharges'].describe())"
   ]
  },
  {
   "cell_type": "code",
   "execution_count": null,
   "id": "d1eddb60",
   "metadata": {},
   "outputs": [],
   "source": []
  }
 ],
 "metadata": {
  "kernelspec": {
   "display_name": "myenv",
   "language": "python",
   "name": "python3"
  },
  "language_info": {
   "codemirror_mode": {
    "name": "ipython",
    "version": 3
   },
   "file_extension": ".py",
   "mimetype": "text/x-python",
   "name": "python",
   "nbconvert_exporter": "python",
   "pygments_lexer": "ipython3",
   "version": "3.10.14"
  }
 },
 "nbformat": 4,
 "nbformat_minor": 5
}
